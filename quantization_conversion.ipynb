{
 "cells": [
  {
   "cell_type": "markdown",
   "id": "d771aeb6-9412-4c46-b256-206ccdc5fe5c",
   "metadata": {},
   "source": [
    "# 1. Load pretrained model"
   ]
  },
  {
   "cell_type": "code",
   "execution_count": 1,
   "id": "d0852e45-58de-48da-a034-f966eb71bee4",
   "metadata": {
    "tags": []
   },
   "outputs": [
    {
     "name": "stderr",
     "output_type": "stream",
     "text": [
      "/opt/conda/lib/python3.7/site-packages/tqdm/auto.py:22: TqdmWarning: IProgress not found. Please update jupyter and ipywidgets. See https://ipywidgets.readthedocs.io/en/stable/user_install.html\n",
      "  from .autonotebook import tqdm as notebook_tqdm\n"
     ]
    }
   ],
   "source": [
    "import torch\n",
    "import torch.nn as nn\n",
    "from torchvision.models.vgg import vgg11, vgg13, vgg16, vgg19 \n",
    "from torch.ao.quantization import QuantStub, DeQuantStub\n",
    "\n",
    "weight_path = \"best_model_vgg11.pt\"\n",
    "\n",
    "\n",
    "model = vgg11()\n",
    "# model.to(torch.device('cpu'))\n",
    "model.load_state_dict(torch.load(weight_path, map_location=\"cpu\"))\n",
    "\n",
    "model.eval()\n",
    "\n",
    "return_nodes = {\n",
    "    \"features.1\": \"layer1\",\n",
    "    \"features.4\": \"layer2\",\n",
    "    \"features.7\": \"layer3\",\n",
    "    \"features.9\": \"layer4\",\n",
    "    \"features.12\": \"layer5\",\n",
    "    \"features.14\": \"layer6\",\n",
    "    \"features.17\": \"layer7\",\n",
    "    \"features.19\": \"layer8\",\n",
    "}\n"
   ]
  },
  {
   "cell_type": "markdown",
   "id": "2b3e24ce-40e9-4923-a95e-7463b4ee4e4a",
   "metadata": {
    "tags": []
   },
   "source": [
    "# 2. select primary layers"
   ]
  },
  {
   "cell_type": "code",
   "execution_count": 2,
   "id": "4fa509e9-3b4e-4a6e-8c21-68a891eb9b4d",
   "metadata": {
    "tags": []
   },
   "outputs": [
    {
     "data": {
      "text/plain": [
       "[('features.19', 0.01953125),\n",
       " ('features.14', 0.109375),\n",
       " ('features.17', 0.123046875)]"
      ]
     },
     "execution_count": 2,
     "metadata": {},
     "output_type": "execute_result"
    }
   ],
   "source": [
    "from pca import extract_primary_layers\n",
    "\n",
    "x = torch.rand(1, 3, 224, 224)\n",
    "primary_layers = extract_primary_layers(x, model, return_nodes, threshold = 0.99, num_layers = 3, status_print = False)\n",
    "primary_layers"
   ]
  },
  {
   "cell_type": "markdown",
   "id": "b6ad2890-33ef-4398-94bb-6ebde9bcdcce",
   "metadata": {},
   "source": [
    "# 3. quantize"
   ]
  }
 ],
 "metadata": {
  "kernelspec": {
   "display_name": "Python 3 (ipykernel)",
   "language": "python",
   "name": "python3"
  },
  "language_info": {
   "codemirror_mode": {
    "name": "ipython",
    "version": 3
   },
   "file_extension": ".py",
   "mimetype": "text/x-python",
   "name": "python",
   "nbconvert_exporter": "python",
   "pygments_lexer": "ipython3",
   "version": "3.7.13"
  }
 },
 "nbformat": 4,
 "nbformat_minor": 5
}
